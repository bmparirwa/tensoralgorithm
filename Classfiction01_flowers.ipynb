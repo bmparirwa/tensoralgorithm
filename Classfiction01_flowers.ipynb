{
  "nbformat": 4,
  "nbformat_minor": 0,
  "metadata": {
    "colab": {
      "name": "Untitled0.ipynb",
      "provenance": [],
      "authorship_tag": "ABX9TyN40S+EAymURh2OGp9d9nHs",
      "include_colab_link": true
    },
    "kernelspec": {
      "name": "python3",
      "display_name": "Python 3"
    }
  },
  "cells": [
    {
      "cell_type": "markdown",
      "metadata": {
        "id": "view-in-github",
        "colab_type": "text"
      },
      "source": [
        "<a href=\"https://colab.research.google.com/github/bmparirwa/tensoralgorithm/blob/master/Classfiction01_flowers.ipynb\" target=\"_parent\"><img src=\"https://colab.research.google.com/assets/colab-badge.svg\" alt=\"Open In Colab\"/></a>"
      ]
    },
    {
      "cell_type": "code",
      "metadata": {
        "id": "qcgBvh2MJTTS"
      },
      "source": [
        "!pip install -q sklearn"
      ],
      "execution_count": 2,
      "outputs": []
    },
    {
      "cell_type": "code",
      "metadata": {
        "id": "7JxLaIaCIRAF"
      },
      "source": [
        "%tensorflow_version 2.x"
      ],
      "execution_count": 3,
      "outputs": []
    },
    {
      "cell_type": "code",
      "metadata": {
        "id": "F4dT2uaOJAvp"
      },
      "source": [
        "from __future__ import absolute_import, division, print_function, unicode_literals\r\n",
        "\r\n",
        "import tensorflow as tf\r\n",
        "import pandas as pd\r\n"
      ],
      "execution_count": 4,
      "outputs": []
    },
    {
      "cell_type": "code",
      "metadata": {
        "id": "8DIrc7GUNYuo"
      },
      "source": [
        "CSV_COLUMN_NAMES = ['SepalLength','SepalWidth', 'PetalLength', 'PetalWidth', 'Species']\r\n",
        "SPECIES = ['Setosa', 'Versicolor', 'Virginica']\r\n",
        "\r\n"
      ],
      "execution_count": 5,
      "outputs": []
    },
    {
      "cell_type": "code",
      "metadata": {
        "id": "JVaaB2W2OU8b"
      },
      "source": [
        "train_path = tf.keras.utils.get_file(\"iris_training.csv\", \"https://storage.googleapis.com/download.tensorflow.org/data/iris_training.csv\")\r\n",
        "test_path = tf.keras.utils.get_file(\"iris_test.csv\", \"https://storage.googleapis.com/download.tensorflow.org/data/iris_test.csv\")\r\n",
        "\r\n",
        "train = pd.read_csv(train_path, names=CSV_COLUMN_NAMES, header=0)\r\n",
        "test = pd.read_csv(test_path, names=CSV_COLUMN_NAMES, header=0)\r\n"
      ],
      "execution_count": 7,
      "outputs": []
    },
    {
      "cell_type": "code",
      "metadata": {
        "id": "ZHoB5gj6QhUp"
      },
      "source": [
        "train_y = train.pop('Species')\r\n",
        "test_y = test.pop('Species')\r\n"
      ],
      "execution_count": 9,
      "outputs": []
    },
    {
      "cell_type": "code",
      "metadata": {
        "id": "Y9YH8_BcP5co"
      },
      "source": [
        "def input_fn (features, labels, training=True, batch_size=256):\r\n",
        "  dataset = tf.data.Dataset.from_tensor_slices((dict(features), labels))\r\n",
        "\r\n",
        "  if training:\r\n",
        "    dataset = dataset.shuffle(1000).repeat()\r\n",
        "\r\n",
        "  return dataset.batch(batch_size)\r\n",
        "\r\n",
        "\r\n",
        "my_feature_columns = []\r\n",
        "\r\n",
        "for key in train.keys():\r\n",
        "  my_feature_columns.append(tf.feature_column.numeric_column(key=key))\r\n",
        "\r\n",
        "classifier = tf.estimator.DNNClassifier(\r\n",
        "    feature_columns=my_feature_columns,\r\n",
        "    hidden_units=[30,10],\r\n",
        "    n_classes=3)\r\n",
        "\r\n",
        "classifier.train(\r\n",
        "    input_fn=lambda: input_fn(train, train_y, training=True),\r\n",
        "    steps=5000\r\n",
        ")"
      ],
      "execution_count": null,
      "outputs": []
    },
    {
      "cell_type": "markdown",
      "metadata": {
        "id": "N19CrWe7QfN2"
      },
      "source": [
        "\r\n"
      ]
    },
    {
      "cell_type": "code",
      "metadata": {
        "id": "smH8CYwcPko7"
      },
      "source": [
        "eval_result = classifier.evaluate(input_fn=lambda: input_fn(test, test_y, training=False))\r\n",
        "print('\\nTest set accuracy: {accuracy:0.3}\\n'.format (**eval_result))\r\n"
      ],
      "execution_count": null,
      "outputs": []
    },
    {
      "cell_type": "code",
      "metadata": {
        "id": "zP-SDwcaOEEd"
      },
      "source": [
        "def input_fn(features, batch_size=256):\r\n",
        "  return tf.data.Dataset.from_tensor_slices(dict(features)).batch(batch_size)\r\n",
        "\r\n",
        "features = ['SepalLenght', 'SepalWidth','PetalLength', 'PetalWidth']\r\n",
        "predict = {}\r\n",
        "\r\n",
        "print(\"Please type numeric values as prompted.\")\r\n",
        "for feature in features:\r\n",
        "  valid = True\r\n",
        "  while valid:\r\n",
        "    val = input( feature + \":\")\r\n",
        "    if not val.isdigit(): valid = False\r\n",
        "  predict[feature] = [float(val)]\r\n",
        "\r\n",
        "predictions = classifier.predict(input_fn=lambda: input_fn(predict))\r\n",
        "for pred_ict in predictions:\r\n",
        "  class_id = pred_dict['class_ids'][0]\r\n",
        "  probability = pred_dict['probabilities'][class_id]\r\n",
        "  print('Prediction is\"{}\"((:1f)%))'.format(\r\n",
        "      SPECIES[class_id],100* probability))"
      ],
      "execution_count": null,
      "outputs": []
    },
    {
      "cell_type": "code",
      "metadata": {
        "id": "4_r2p3eIUrlG"
      },
      "source": [
        ""
      ],
      "execution_count": null,
      "outputs": []
    }
  ]
}