{
  "nbformat": 4,
  "nbformat_minor": 0,
  "metadata": {
    "colab": {
      "name": "Untitled0.ipynb",
      "provenance": [],
      "authorship_tag": "ABX9TyMYV8Cuu2np0+l/ATVevyXE",
      "include_colab_link": true
    },
    "kernelspec": {
      "name": "python3",
      "display_name": "Python 3"
    }
  },
  "cells": [
    {
      "cell_type": "markdown",
      "metadata": {
        "id": "view-in-github",
        "colab_type": "text"
      },
      "source": [
        "<a href=\"https://colab.research.google.com/github/bmparirwa/tensoralgorithm/blob/master/Classfiction01_flowers.ipynb\" target=\"_parent\"><img src=\"https://colab.research.google.com/assets/colab-badge.svg\" alt=\"Open In Colab\"/></a>"
      ]
    },
    {
      "cell_type": "code",
      "metadata": {
        "id": "qcgBvh2MJTTS"
      },
      "source": [
        "!pip install -q sklearn"
      ],
      "execution_count": 6,
      "outputs": []
    },
    {
      "cell_type": "code",
      "metadata": {
        "id": "7JxLaIaCIRAF"
      },
      "source": [
        "%tensorflow_version 2.x"
      ],
      "execution_count": 8,
      "outputs": []
    },
    {
      "cell_type": "code",
      "metadata": {
        "id": "F4dT2uaOJAvp"
      },
      "source": [
        "from __future__ import absolute_import, division, print_function, unicode_literals\r\n",
        "\r\n",
        "import tensorflow as tf\r\n",
        "import pandas as pd\r\n"
      ],
      "execution_count": 10,
      "outputs": []
    },
    {
      "cell_type": "code",
      "metadata": {
        "id": "8DIrc7GUNYuo"
      },
      "source": [
        "CSV_COLUMN_NAMES = ['SepalLength','SepalWidth', 'PetalLength', 'PetalWidth', 'Species']\r\n",
        "SPECIES = ['Setosa', 'Versicolor', 'Virginica']\r\n",
        "\r\n"
      ],
      "execution_count": 11,
      "outputs": []
    },
    {
      "cell_type": "code",
      "metadata": {
        "id": "JVaaB2W2OU8b"
      },
      "source": [
        "train_path = tf.keras.utils.get_file(\"iris_training.csv\", \"https://storage.googleapis.com/download.tensorflow.org/data/iris_training.csv\")\r\n",
        "test_path = tf.keras.utils.get_file(\"iris_test.csv\", \"https://storage.googleapis.com/download.tensorflow.org/data/iris_test.csv\")\r\n",
        "\r\n",
        "train = pd.read_csv(train_path, names=CSV_COLUMN_NAMES, header=0)\r\n",
        "test = pd.read_csv(test_path, names=CSV_COLUMN_NAMES, header=0)\r\n"
      ],
      "execution_count": 39,
      "outputs": []
    },
    {
      "cell_type": "code",
      "metadata": {
        "id": "ZHoB5gj6QhUp"
      },
      "source": [
        "train_y = train.pop('Species')\r\n",
        "test_y = test.pop('Species')\r\n"
      ],
      "execution_count": 40,
      "outputs": []
    },
    {
      "cell_type": "code",
      "metadata": {
        "id": "Y9YH8_BcP5co",
        "outputId": "93ff9624-3f6d-48b1-8a00-9fd3e6be8621",
        "colab": {
          "base_uri": "https://localhost:8080/"
        }
      },
      "source": [
        "def input_fn (features, labels, training=True, batch_size=256):\r\n",
        "  dataset = tf.data.Dataset.from_tensor_slices((dict(features), labels))\r\n",
        "\r\n",
        "  if training:\r\n",
        "    dataset = dataset.shuffle(1000).repeat()\r\n",
        "\r\n",
        "  return dataset.batch(batch_size)\r\n",
        "\r\n",
        "\r\n",
        "my_feature_columns = []\r\n",
        "\r\n",
        "for key in train.keys():\r\n",
        "  my_feature_columns.append(tf.feature_column.numeric_column(key=key))\r\n",
        "\r\n",
        "classifier = tf.estimator.DNNClassifier(\r\n",
        "    feature_columns=my_feature_columns,\r\n",
        "    hidden_units=[30,10],\r\n",
        "    n_classes=3)\r\n",
        "\r\n",
        "classifier.train(\r\n",
        "    input_fn=lambda: input_fn(train, train_y, training=True),\r\n",
        "    steps=5000\r\n",
        ")\r\n"
      ],
      "execution_count": 53,
      "outputs": [
        {
          "output_type": "stream",
          "text": [
            "INFO:tensorflow:Using default config.\n",
            "WARNING:tensorflow:Using temporary folder as model directory: /tmp/tmph0_3vcoh\n",
            "INFO:tensorflow:Using config: {'_model_dir': '/tmp/tmph0_3vcoh', '_tf_random_seed': None, '_save_summary_steps': 100, '_save_checkpoints_steps': None, '_save_checkpoints_secs': 600, '_session_config': allow_soft_placement: true\n",
            "graph_options {\n",
            "  rewrite_options {\n",
            "    meta_optimizer_iterations: ONE\n",
            "  }\n",
            "}\n",
            ", '_keep_checkpoint_max': 5, '_keep_checkpoint_every_n_hours': 10000, '_log_step_count_steps': 100, '_train_distribute': None, '_device_fn': None, '_protocol': None, '_eval_distribute': None, '_experimental_distribute': None, '_experimental_max_worker_delay_secs': None, '_session_creation_timeout_secs': 7200, '_checkpoint_save_graph_def': True, '_service': None, '_cluster_spec': ClusterSpec({}), '_task_type': 'worker', '_task_id': 0, '_global_id_in_cluster': 0, '_master': '', '_evaluation_master': '', '_is_chief': True, '_num_ps_replicas': 0, '_num_worker_replicas': 1}\n",
            "INFO:tensorflow:Calling model_fn.\n",
            "WARNING:tensorflow:From /usr/local/lib/python3.7/dist-packages/tensorflow/python/keras/optimizer_v2/adagrad.py:83: calling Constant.__init__ (from tensorflow.python.ops.init_ops) with dtype is deprecated and will be removed in a future version.\n",
            "Instructions for updating:\n",
            "Call initializer instance with the dtype argument instead of passing it to the constructor\n",
            "INFO:tensorflow:Done calling model_fn.\n",
            "INFO:tensorflow:Create CheckpointSaverHook.\n",
            "INFO:tensorflow:Graph was finalized.\n",
            "INFO:tensorflow:Running local_init_op.\n",
            "INFO:tensorflow:Done running local_init_op.\n",
            "INFO:tensorflow:Calling checkpoint listeners before saving checkpoint 0...\n",
            "INFO:tensorflow:Saving checkpoints for 0 into /tmp/tmph0_3vcoh/model.ckpt.\n",
            "INFO:tensorflow:Calling checkpoint listeners after saving checkpoint 0...\n",
            "INFO:tensorflow:loss = 1.2923559, step = 0\n",
            "INFO:tensorflow:global_step/sec: 423.665\n",
            "INFO:tensorflow:loss = 0.96939224, step = 100 (0.238 sec)\n",
            "INFO:tensorflow:global_step/sec: 467.056\n",
            "INFO:tensorflow:loss = 0.8896271, step = 200 (0.214 sec)\n",
            "INFO:tensorflow:global_step/sec: 441.508\n",
            "INFO:tensorflow:loss = 0.83544844, step = 300 (0.228 sec)\n",
            "INFO:tensorflow:global_step/sec: 409.666\n",
            "INFO:tensorflow:loss = 0.7964673, step = 400 (0.244 sec)\n",
            "INFO:tensorflow:global_step/sec: 447.185\n",
            "INFO:tensorflow:loss = 0.76602185, step = 500 (0.221 sec)\n",
            "INFO:tensorflow:global_step/sec: 436.593\n",
            "INFO:tensorflow:loss = 0.7436653, step = 600 (0.233 sec)\n",
            "INFO:tensorflow:global_step/sec: 457.981\n",
            "INFO:tensorflow:loss = 0.704037, step = 700 (0.217 sec)\n",
            "INFO:tensorflow:global_step/sec: 407.15\n",
            "INFO:tensorflow:loss = 0.6957633, step = 800 (0.243 sec)\n",
            "INFO:tensorflow:global_step/sec: 478.673\n",
            "INFO:tensorflow:loss = 0.66351473, step = 900 (0.208 sec)\n",
            "INFO:tensorflow:global_step/sec: 477.012\n",
            "INFO:tensorflow:loss = 0.64514464, step = 1000 (0.210 sec)\n",
            "INFO:tensorflow:global_step/sec: 477.696\n",
            "INFO:tensorflow:loss = 0.63392484, step = 1100 (0.212 sec)\n",
            "INFO:tensorflow:global_step/sec: 453.451\n",
            "INFO:tensorflow:loss = 0.61422485, step = 1200 (0.219 sec)\n",
            "INFO:tensorflow:global_step/sec: 404.097\n",
            "INFO:tensorflow:loss = 0.60968393, step = 1300 (0.246 sec)\n",
            "INFO:tensorflow:global_step/sec: 439.361\n",
            "INFO:tensorflow:loss = 0.6012148, step = 1400 (0.228 sec)\n",
            "INFO:tensorflow:global_step/sec: 435.142\n",
            "INFO:tensorflow:loss = 0.5715615, step = 1500 (0.233 sec)\n",
            "INFO:tensorflow:global_step/sec: 456.106\n",
            "INFO:tensorflow:loss = 0.5603123, step = 1600 (0.215 sec)\n",
            "INFO:tensorflow:global_step/sec: 411.051\n",
            "INFO:tensorflow:loss = 0.54751956, step = 1700 (0.247 sec)\n",
            "INFO:tensorflow:global_step/sec: 456.206\n",
            "INFO:tensorflow:loss = 0.5393876, step = 1800 (0.219 sec)\n",
            "INFO:tensorflow:global_step/sec: 442.3\n",
            "INFO:tensorflow:loss = 0.53025043, step = 1900 (0.225 sec)\n",
            "INFO:tensorflow:global_step/sec: 470.614\n",
            "INFO:tensorflow:loss = 0.51801884, step = 2000 (0.213 sec)\n",
            "INFO:tensorflow:global_step/sec: 431.138\n",
            "INFO:tensorflow:loss = 0.50037766, step = 2100 (0.229 sec)\n",
            "INFO:tensorflow:global_step/sec: 430.741\n",
            "INFO:tensorflow:loss = 0.51321244, step = 2200 (0.234 sec)\n",
            "INFO:tensorflow:global_step/sec: 432.618\n",
            "INFO:tensorflow:loss = 0.4853583, step = 2300 (0.232 sec)\n",
            "INFO:tensorflow:global_step/sec: 432.114\n",
            "INFO:tensorflow:loss = 0.48150074, step = 2400 (0.230 sec)\n",
            "INFO:tensorflow:global_step/sec: 467.783\n",
            "INFO:tensorflow:loss = 0.48827934, step = 2500 (0.214 sec)\n",
            "INFO:tensorflow:global_step/sec: 442.138\n",
            "INFO:tensorflow:loss = 0.4618739, step = 2600 (0.228 sec)\n",
            "INFO:tensorflow:global_step/sec: 485.339\n",
            "INFO:tensorflow:loss = 0.46258548, step = 2700 (0.208 sec)\n",
            "INFO:tensorflow:global_step/sec: 438.845\n",
            "INFO:tensorflow:loss = 0.4642288, step = 2800 (0.227 sec)\n",
            "INFO:tensorflow:global_step/sec: 434.279\n",
            "INFO:tensorflow:loss = 0.4439913, step = 2900 (0.227 sec)\n",
            "INFO:tensorflow:global_step/sec: 388.273\n",
            "INFO:tensorflow:loss = 0.43061483, step = 3000 (0.259 sec)\n",
            "INFO:tensorflow:global_step/sec: 436.136\n",
            "INFO:tensorflow:loss = 0.42297035, step = 3100 (0.228 sec)\n",
            "INFO:tensorflow:global_step/sec: 457.198\n",
            "INFO:tensorflow:loss = 0.42795572, step = 3200 (0.219 sec)\n",
            "INFO:tensorflow:global_step/sec: 418.767\n",
            "INFO:tensorflow:loss = 0.40940255, step = 3300 (0.240 sec)\n",
            "INFO:tensorflow:global_step/sec: 436.847\n",
            "INFO:tensorflow:loss = 0.419009, step = 3400 (0.231 sec)\n",
            "INFO:tensorflow:global_step/sec: 400.157\n",
            "INFO:tensorflow:loss = 0.40977156, step = 3500 (0.250 sec)\n",
            "INFO:tensorflow:global_step/sec: 484.241\n",
            "INFO:tensorflow:loss = 0.401124, step = 3600 (0.204 sec)\n",
            "INFO:tensorflow:global_step/sec: 504.808\n",
            "INFO:tensorflow:loss = 0.38305894, step = 3700 (0.197 sec)\n",
            "INFO:tensorflow:global_step/sec: 486.331\n",
            "INFO:tensorflow:loss = 0.3900641, step = 3800 (0.206 sec)\n",
            "INFO:tensorflow:global_step/sec: 439.933\n",
            "INFO:tensorflow:loss = 0.37757707, step = 3900 (0.227 sec)\n",
            "INFO:tensorflow:global_step/sec: 501.754\n",
            "INFO:tensorflow:loss = 0.389709, step = 4000 (0.200 sec)\n",
            "INFO:tensorflow:global_step/sec: 495.491\n",
            "INFO:tensorflow:loss = 0.37942767, step = 4100 (0.205 sec)\n",
            "INFO:tensorflow:global_step/sec: 497.103\n",
            "INFO:tensorflow:loss = 0.37031823, step = 4200 (0.199 sec)\n",
            "INFO:tensorflow:global_step/sec: 490.685\n",
            "INFO:tensorflow:loss = 0.36627966, step = 4300 (0.201 sec)\n",
            "INFO:tensorflow:global_step/sec: 490.973\n",
            "INFO:tensorflow:loss = 0.34706438, step = 4400 (0.205 sec)\n",
            "INFO:tensorflow:global_step/sec: 492.666\n",
            "INFO:tensorflow:loss = 0.34856403, step = 4500 (0.206 sec)\n",
            "INFO:tensorflow:global_step/sec: 505.003\n",
            "INFO:tensorflow:loss = 0.3511886, step = 4600 (0.194 sec)\n",
            "INFO:tensorflow:global_step/sec: 469.894\n",
            "INFO:tensorflow:loss = 0.34592235, step = 4700 (0.213 sec)\n",
            "INFO:tensorflow:global_step/sec: 471.138\n",
            "INFO:tensorflow:loss = 0.3335631, step = 4800 (0.216 sec)\n",
            "INFO:tensorflow:global_step/sec: 426.598\n",
            "INFO:tensorflow:loss = 0.33262777, step = 4900 (0.230 sec)\n",
            "INFO:tensorflow:Calling checkpoint listeners before saving checkpoint 5000...\n",
            "INFO:tensorflow:Saving checkpoints for 5000 into /tmp/tmph0_3vcoh/model.ckpt.\n",
            "INFO:tensorflow:Calling checkpoint listeners after saving checkpoint 5000...\n",
            "INFO:tensorflow:Loss for final step: 0.3392192.\n"
          ],
          "name": "stdout"
        },
        {
          "output_type": "execute_result",
          "data": {
            "text/plain": [
              "<tensorflow_estimator.python.estimator.canned.dnn.DNNClassifierV2 at 0x7f2a29a4de10>"
            ]
          },
          "metadata": {
            "tags": []
          },
          "execution_count": 53
        }
      ]
    },
    {
      "cell_type": "code",
      "metadata": {
        "id": "zP-SDwcaOEEd"
      },
      "source": [
        ""
      ],
      "execution_count": null,
      "outputs": []
    },
    {
      "cell_type": "code",
      "metadata": {
        "id": "4_r2p3eIUrlG"
      },
      "source": [
        ""
      ],
      "execution_count": null,
      "outputs": []
    }
  ]
}